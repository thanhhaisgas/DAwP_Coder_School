{
  "nbformat": 4,
  "nbformat_minor": 0,
  "metadata": {
    "colab": {
      "name": "DAwP_Assignment_1.ipynb",
      "version": "0.3.2",
      "provenance": [],
      "collapsed_sections": [
        "JUCEcHRJGUoH"
      ],
      "toc_visible": true
    },
    "kernelspec": {
      "name": "python3",
      "display_name": "Python 3"
    }
  },
  "cells": [
    {
      "cell_type": "markdown",
      "metadata": {
        "id": "jjZG7BNlbWtO",
        "colab_type": "text"
      },
      "source": [
        "![](https://i.imgur.com/0AUxkXt.png)"
      ]
    },
    {
      "cell_type": "markdown",
      "metadata": {
        "id": "jbpQzyjqbflM",
        "colab_type": "text"
      },
      "source": [
        "# Assignment 1 - The Hacker Rank\n",
        "\n",
        "HackerRank is a place where programmers from all over the world come together to solve problems in a wide range of Computer Science domains.\n",
        "\n",
        "As you solve more challenges, you earn points and move up the HackerRank Leaderboard.\n",
        "\n",
        "Looking for a job at an awesome company? You can get hired by solving [challenges](https://www.hackerrank.com/jobs/search)!\n",
        "\n",
        "It's cool. Let's establish your knowledge and fight for glory!\n",
        "\n",
        "But before that let's make it clear that.."
      ]
    },
    {
      "cell_type": "markdown",
      "metadata": {
        "id": "-ndmD4naciAN",
        "colab_type": "text"
      },
      "source": [
        "## Note-taking is IMPORTANT\n",
        "\n",
        "Blog: [Why is note-taking important](https://nickblackbourn.com/blog/why-is-note-taking-important/)\n",
        "\n",
        "Note taking isn’t just important for college students, it’s a valuable life skill.\n",
        "\n",
        "Effective note taking helps you to remember information and aids your understanding of that information. \n",
        "\n",
        "**Notes boost your understanding**\n",
        "\n",
        "By making notes, you force yourself to construct a conceptual mental representation of the ideas you are grappling with. It is this process that helps you comprehend the subject matter you are working with.\n",
        "\n",
        "**Notes are a repository of your thinking**\n",
        "\n",
        "When you need to recall something that you came across a while ago, you can go over the main ideas by looking over your notes. This is why good, comprehensive notes are so useful; they are a catalogue of the best ideas you’ve encountered, and what you thought about them.\n",
        "\n",
        "etc.\n",
        "\n",
        "\n",
        "\n",
        "\n",
        "\n",
        "\n",
        "\n"
      ]
    },
    {
      "cell_type": "markdown",
      "metadata": {
        "id": "IGvKPsdVfX-F",
        "colab_type": "text"
      },
      "source": [
        "## Requirements\n",
        "\n",
        "Pick 10 challenges on HackerRank about SQL and 5 about Python in **easy** level:\n",
        "\n",
        "[HackerRank - Domain SQL](https://www.hackerrank.com/domains/sql?filters%5Bdifficulty%5D%5B%5D=easy&filters%5Bsubdomains%5D%5B%5D=select)\n",
        "\n",
        "[HackerRank - Domain Python](https://www.hackerrank.com/domains/python?filters%5Bdifficulty%5D%5B%5D=easy)\n",
        "\n",
        "For each challenge:\n",
        "\n",
        "* Create a markdown cell first that describes the challenge.\n",
        "* Solve the challenge on HackerRank and copy your solution to a code cell below\n",
        "* (Optional) A short description about how you came up with the solution would be awesome."
      ]
    },
    {
      "cell_type": "markdown",
      "metadata": {
        "id": "higGK1Y5iAea",
        "colab_type": "text"
      },
      "source": [
        "## Example"
      ]
    },
    {
      "cell_type": "markdown",
      "metadata": {
        "id": "D2yU2FYDi4tj",
        "colab_type": "text"
      },
      "source": [
        "### SQL"
      ]
    },
    {
      "cell_type": "markdown",
      "metadata": {
        "id": "gu4DDH7Ki77C",
        "colab_type": "text"
      },
      "source": [
        "\n",
        "#### Problem 1\n",
        "\n",
        "Query all columns for all American cities in **CITY** with populations larger than 100000. The CountryCode for America is USA.\n",
        "\n",
        "**Input Format**\n",
        "\n",
        "The **CITY** table is described as follows:\n",
        "\n",
        "| Field | Type |\n",
        "|:----:|:---:|\n",
        "| ID | NUMBER |\n",
        "| NAME | VARCHAR2(17) |\n",
        "| COUNTRYCODE | VARCHAR2(3) |\n",
        "| DISTRICT | VARCHAR2(20) |\n",
        "| POPULATION | NUMBER |"
      ]
    },
    {
      "cell_type": "code",
      "metadata": {
        "id": "hhAwMjyhbT1b",
        "colab_type": "code",
        "colab": {}
      },
      "source": [
        "# Solution\n",
        "# SELECT * from city WHERE population>100000 AND countrycode='USA';"
      ],
      "execution_count": 0,
      "outputs": []
    },
    {
      "cell_type": "markdown",
      "metadata": {
        "id": "0AxyfiJijJ7T",
        "colab_type": "text"
      },
      "source": [
        "### Python"
      ]
    },
    {
      "cell_type": "markdown",
      "metadata": {
        "id": "PEW8LsB5jLqf",
        "colab_type": "text"
      },
      "source": [
        "#### Problem 1\n",
        "\n",
        "**Task** \n",
        "Given an integer, , perform the following conditional actions:\n",
        "\n",
        "* If `n` is odd, print *Weird*\n",
        "* If `n` is even and in the inclusive range of 2 to 5, print *Not Weird*\n",
        "* If `n` is even and in the inclusive range of 6 to 20, print *Weird*\n",
        "* If `n` is even and greater than 20, print *Not Weird*\n",
        "\n",
        "**Input Format**\n",
        "\n",
        "A single line containing a positive integer, .\n",
        "\n",
        "**Output Format**\n",
        "\n",
        "Print Weird if the number is weird; otherwise, print Not Weird."
      ]
    },
    {
      "cell_type": "code",
      "metadata": {
        "id": "JBOxgw0zjLC2",
        "colab_type": "code",
        "colab": {}
      },
      "source": [
        "n = int(input())\n",
        "\n",
        "if n % 2 == 1:\n",
        "    print('Weird')\n",
        "else:\n",
        "    if (n >= 2) and (n <= 5):\n",
        "        print('Not Weird')\n",
        "    elif (n >= 6) and (n <= 20):\n",
        "        print('Weird')\n",
        "    else:\n",
        "        print('Not Weird')"
      ],
      "execution_count": 0,
      "outputs": []
    },
    {
      "cell_type": "markdown",
      "metadata": {
        "id": "a-Q3VE7YkA9A",
        "colab_type": "text"
      },
      "source": [
        "## Your turn\n",
        "\n",
        "Good luck and have fun!"
      ]
    },
    {
      "cell_type": "markdown",
      "metadata": {
        "colab_type": "text",
        "id": "JUCEcHRJGUoH"
      },
      "source": [
        "### SQL"
      ]
    },
    {
      "cell_type": "markdown",
      "metadata": {
        "colab_type": "text",
        "id": "Kc_jWjvdHsGU"
      },
      "source": [
        "\n",
        "#### Problem 1: The PADS\n",
        "\n",
        "Generate the following two result sets:\n",
        "\n",
        "Query an alphabetically ordered list of all names in **OCCUPATIONS**, immediately followed by the first letter of each profession as a parenthetical (i.e.: enclosed in parentheses). For example: AnActorName(A), ADoctorName(D), AProfessorName(P), and ASingerName(S).\n",
        "Query the number of ocurrences of each occupation in **OCCUPATIONS**. Sort the occurrences in ascending order, and output them in the following format: \n",
        "\n",
        "There are a total of [occupation_count] [occupation]s.\n",
        "where [occupation_count] is the number of occurrences of an occupation in OCCUPATIONS and [occupation] is the lowercase occupation name. If more than one Occupation has the same [occupation_count], they should be ordered alphabetically.\n",
        "\n",
        "Note: There will be at least two entries in the table for each type of occupation.\n",
        "\n",
        "**Input Format**\n",
        "\n",
        "The **OCCUPATIONS** table is described as follows:\n",
        "\n",
        "| Column | Type |\n",
        "|:----:|:---:|\n",
        "| Name | String |\n",
        "| Occupation | String |\n",
        "\n",
        "Occupation will only contain one of the following values: **Doctor**, **Professor**, **Singer** or **Actor**.\n",
        "\n",
        "\n",
        "---\n",
        "\n",
        "\n",
        "**Solution:** I'm using 2 queries. First query, I select Name and substring Occupation with first character. Second query, I just make count Occupation and group by them.\n",
        "\n",
        "**Submission url:** https://www.hackerrank.com/rest/contests/master/challenges/the-pads/hackers/thanhhaisgas/download_solution"
      ]
    },
    {
      "cell_type": "code",
      "metadata": {
        "id": "uAdYXttHGYIE",
        "colab_type": "code",
        "colab": {}
      },
      "source": [
        "/*\n",
        "Enter your query here.\n",
        "Please append a semicolon \";\" at the end of the query and enter your query in a single line to avoid error.\n",
        "*/\n",
        "select Name || '(' || concat(SUBSTR(Occupation, 1, 1),')') from OCCUPATIONS order by Name ASC;\n",
        "select 'There are a total of ' || count(Occupation) || concat(' ',lower(Occupation)) || 's.' from OCCUPATIONS group by Occupation order by count(Occupation), Occupation ASC;"
      ],
      "execution_count": 0,
      "outputs": []
    },
    {
      "cell_type": "markdown",
      "metadata": {
        "colab_type": "text",
        "id": "DN_JHFCkTL8w"
      },
      "source": [
        "\n",
        "#### Problem 2: Occupations\n",
        "\n",
        "Pivot the Occupation column in **OCCUPATIONS** so that each Name is sorted alphabetically and displayed underneath its corresponding Occupation. The output column headers should be Doctor, Professor, Singer, and Actor, respectively.\n",
        "\n",
        "Note: Print NULL when there are no more names corresponding to an occupation.\n",
        "\n",
        "**Input Format**\n",
        "\n",
        "The **OCCUPATIONS** table is described as follows:\n",
        "\n",
        "| Column | Type |\n",
        "|:----:|:---:|\n",
        "| Name | String |\n",
        "| Occupation | String |\n",
        "\n",
        "Occupation will only contain one of the following values: **Doctor**, **Professor**, **Singer** or **Actor**.\n",
        "\n",
        "\n",
        "---\n",
        "\n",
        "\n",
        "**Solution:** Make a new column to present the number of appearance of \"Occupation\" and  order  by \"Name\" ,  then group this column.\n",
        "\n",
        "**Submission url:** https://www.hackerrank.com/rest/contests/master/challenges/occupations/hackers/thanhhaisgas/download_solution"
      ]
    },
    {
      "cell_type": "code",
      "metadata": {
        "id": "2D1JtA9420QH",
        "colab_type": "code",
        "colab": {}
      },
      "source": [
        "/*\n",
        "Enter your query here.\n",
        "Please append a semicolon \";\" at the end of the query and enter your query in a single line to avoid error.\n",
        "*/ \n",
        "select max(Doctor), max(Professor), max(Singer), max(Actor) from\n",
        "    (\n",
        "        select \n",
        "           RANK() OVER (PARTITION BY Occupation order by Name) AS DupCount,\n",
        "           DECODE(Occupation, 'Doctor', Name) as Doctor,\n",
        "           DECODE(Occupation, 'Professor', Name) as Professor,\n",
        "           DECODE(Occupation, 'Singer', Name) as Singer,\n",
        "           DECODE(Occupation, 'Actor', Name) as Actor\n",
        "        from OCCUPATIONS order by Name asc\n",
        "    )\n",
        "group by DupCount\n",
        "order by DupCount;"
      ],
      "execution_count": 0,
      "outputs": []
    },
    {
      "cell_type": "markdown",
      "metadata": {
        "colab_type": "text",
        "id": "pDdCIiuBO08t"
      },
      "source": [
        "\n",
        "#### Problem 3: Binary Tree Nodes\n",
        "\n",
        "You are given a table, **BTS**, containing two columns: N and P, where N represents the value of a node in Binary Tree, and P is the parent of N.\n",
        "\n",
        "**Input Format**\n",
        "\n",
        "The **BTS** table is described as follows:\n",
        "\n",
        "| Column | Type |\n",
        "|:----:|:---:|\n",
        "| N | Integer |\n",
        "| P | Integer|\n",
        "\n",
        "Write a query to find the node type of Binary Tree ordered by the value of the node. Output one of the following for each node:\n",
        "\n",
        "\n",
        "* Root: If node is root node.\n",
        "* Leaf: If node is leaf node.\n",
        "* Inner: If node is neither root nor leaf node.\n",
        "\n",
        "\n",
        "---\n",
        "\n",
        "\n",
        "**Solution:** Leaf is not in P, NULL is Root and the rest is Inner.\n",
        "\n",
        "**Submission url:** https://www.hackerrank.com/rest/contests/master/challenges/binary-search-tree-1/hackers/thanhhaisgas/download_solution"
      ]
    },
    {
      "cell_type": "code",
      "metadata": {
        "id": "eHApaB9lPbwX",
        "colab_type": "code",
        "colab": {}
      },
      "source": [
        "/*\n",
        "Enter your query here.\n",
        "Please append a semicolon \";\" at the end of the query and enter your query in a single line to avoid error.\n",
        "*/\n",
        "select N, \n",
        "case \n",
        "    when N not in (select P from BST where P is not null) then 'Leaf' \n",
        "    when P is null then 'Root' \n",
        "    else 'Inner'\n",
        "end \n",
        "from BST order by N;"
      ],
      "execution_count": 0,
      "outputs": []
    },
    {
      "cell_type": "markdown",
      "metadata": {
        "colab_type": "text",
        "id": "ZideeQUwSCSp"
      },
      "source": [
        "\n",
        "#### Problem 4: Revising the Select Query I\n",
        "\n",
        "Query all columns for all American cities in **CITY** with populations larger than 100000. The CountryCode for America is USA.\n",
        "\n",
        "**Input Format**\n",
        "\n",
        "The **CITY** table is described as follows:\n",
        "\n",
        "| Field | Type |\n",
        "|:----:|:---:|\n",
        "| ID | NUMBER |\n",
        "| NAME | VARCHAR2(17) |\n",
        "| COUNTRYCODE | VARCHAR2(3) |\n",
        "| DISTRICT | VARCHAR2(20) |\n",
        "| POPULATION | NUMBER |\n",
        "\n",
        "**Submission url:** https://www.hackerrank.com/rest/contests/master/challenges/revising-the-select-query/hackers/thanhhaisgas/download_solution"
      ]
    },
    {
      "cell_type": "code",
      "metadata": {
        "id": "_VsnRu69SaWM",
        "colab_type": "code",
        "colab": {}
      },
      "source": [
        "SELECT * from city WHERE population>100000 AND countrycode='USA';"
      ],
      "execution_count": 0,
      "outputs": []
    },
    {
      "cell_type": "markdown",
      "metadata": {
        "colab_type": "text",
        "id": "A3jI51kCSpim"
      },
      "source": [
        "\n",
        "#### Problem 5: Revising the Select Query II\n",
        "\n",
        "Query the names of all American cities in **CITY** with populations larger than 120000. The CountryCode for America is USA.\n",
        "\n",
        "**Input Format**\n",
        "\n",
        "The **CITY** table is described as follows:\n",
        "\n",
        "| Field | Type |\n",
        "|:----:|:---:|\n",
        "| ID | NUMBER |\n",
        "| NAME | VARCHAR2(17) |\n",
        "| COUNTRYCODE | VARCHAR2(3) |\n",
        "| DISTRICT | VARCHAR2(20) |\n",
        "| POPULATION | NUMBER |\n",
        "\n",
        "**Submission url:** https://www.hackerrank.com/rest/contests/master/challenges/revising-the-select-query-2/hackers/thanhhaisgas/download_solution"
      ]
    },
    {
      "cell_type": "code",
      "metadata": {
        "id": "2m0xeJc4TM7p",
        "colab_type": "code",
        "colab": {}
      },
      "source": [
        "SELECT NAME from city WHERE population>=120000 AND countrycode='USA';"
      ],
      "execution_count": 0,
      "outputs": []
    },
    {
      "cell_type": "markdown",
      "metadata": {
        "colab_type": "text",
        "id": "DawRTerJTzGV"
      },
      "source": [
        "\n",
        "#### Problem 6: Select All\n",
        "\n",
        "Query all columns (attributes) for every row in the **CITY** table.\n",
        "\n",
        "**Input Format**\n",
        "\n",
        "The **CITY** table is described as follows:\n",
        "\n",
        "| Field | Type |\n",
        "|:----:|:---:|\n",
        "| ID | NUMBER |\n",
        "| NAME | VARCHAR2(17) |\n",
        "| COUNTRYCODE | VARCHAR2(3) |\n",
        "| DISTRICT | VARCHAR2(20) |\n",
        "| POPULATION | NUMBER |\n",
        "\n",
        "**Submission url:** https://www.hackerrank.com/rest/contests/master/challenges/select-all-sql/hackers/thanhhaisgas/download_solution"
      ]
    },
    {
      "cell_type": "code",
      "metadata": {
        "id": "dsLWTgdBUExO",
        "colab_type": "code",
        "colab": {}
      },
      "source": [
        "select * from CITY;"
      ],
      "execution_count": 0,
      "outputs": []
    },
    {
      "cell_type": "markdown",
      "metadata": {
        "colab_type": "text",
        "id": "NUOXFPD0T1Wc"
      },
      "source": [
        "#### Problem 7: Select By ID\n",
        "\n",
        "Query all columns for a city in **CITY** with the ID 1661.\n",
        "\n",
        "**Input Format**\n",
        "\n",
        "The **CITY** table is described as follows:\n",
        "\n",
        "| Field | Type |\n",
        "|:----:|:---:|\n",
        "| ID | NUMBER |\n",
        "| NAME | VARCHAR2(17) |\n",
        "| COUNTRYCODE | VARCHAR2(3) |\n",
        "| DISTRICT | VARCHAR2(20) |\n",
        "| POPULATION | NUMBER |\n",
        "\n",
        "**Submission url:** https://www.hackerrank.com/rest/contests/master/challenges/select-by-id/hackers/thanhhaisgas/download_solution"
      ]
    },
    {
      "cell_type": "markdown",
      "metadata": {
        "colab_type": "text",
        "id": "ea-rttXCUlxI"
      },
      "source": [
        "#### Problem 8: Japanese Cities' Attributes\n",
        "\n",
        "Query all attributes of every Japanese city in the **CITY** table. The COUNTRYCODE for Japan is JPN.\n",
        "\n",
        "**Input Format**\n",
        "\n",
        "The **CITY** table is described as follows:\n",
        "\n",
        "| Field | Type |\n",
        "|:----:|:---:|\n",
        "| ID | NUMBER |\n",
        "| NAME | VARCHAR2(17) |\n",
        "| COUNTRYCODE | VARCHAR2(3) |\n",
        "| DISTRICT | VARCHAR2(20) |\n",
        "| POPULATION | NUMBER |\n",
        "\n",
        "**Submission url:** https://www.hackerrank.com/rest/contests/master/challenges/japanese-cities-attributes/hackers/thanhhaisgas/download_solution"
      ]
    },
    {
      "cell_type": "code",
      "metadata": {
        "id": "BtwtpeY9UaDP",
        "colab_type": "code",
        "colab": {}
      },
      "source": [
        "select * from CITY where COUNTRYCODE = 'JPN';"
      ],
      "execution_count": 0,
      "outputs": []
    },
    {
      "cell_type": "markdown",
      "metadata": {
        "colab_type": "text",
        "id": "3cgemghzU8ch"
      },
      "source": [
        "#### Problem 9: Japanese Cities' Names\n",
        "\n",
        "Query the names of all the Japanese city in the **CITY** table. The COUNTRYCODE for Japan is JPN.\n",
        "\n",
        "**Input Format**\n",
        "\n",
        "The **CITY** table is described as follows:\n",
        "\n",
        "| Field | Type |\n",
        "|:----:|:---:|\n",
        "| ID | NUMBER |\n",
        "| NAME | VARCHAR2(17) |\n",
        "| COUNTRYCODE | VARCHAR2(3) |\n",
        "| DISTRICT | VARCHAR2(20) |\n",
        "| POPULATION | NUMBER |\n",
        "\n",
        "**Submission url:** https://www.hackerrank.com/rest/contests/master/challenges/japanese-cities-name/hackers/thanhhaisgas/download_solution"
      ]
    },
    {
      "cell_type": "code",
      "metadata": {
        "id": "DUCWou8sVKLT",
        "colab_type": "code",
        "colab": {}
      },
      "source": [
        "select NAME from CITY where COUNTRYCODE = 'JPN';"
      ],
      "execution_count": 0,
      "outputs": []
    },
    {
      "cell_type": "markdown",
      "metadata": {
        "colab_type": "text",
        "id": "7eq5OWb2VUNF"
      },
      "source": [
        "#### Problem 10: Weather Observation Station 1\n",
        "\n",
        "Query a list of CITY and STATE from the **STATION** table.\n",
        "\n",
        "**Input Format**\n",
        "\n",
        "The **CITY** table is described as follows:\n",
        "\n",
        "| Field | Type |\n",
        "|:----:|:---:|\n",
        "| ID | NUMBER |\n",
        "| CITY | VARCHAR2(17) |\n",
        "| STATE | VARCHAR2(2) |\n",
        "| LAT_N | NUMBER |\n",
        "| LONG_N | NUMBER |\n",
        "\n",
        "where LAT_N is the northern latitude and LONG_W is the western longitude.\n",
        "\n",
        "**Submission url:** https://www.hackerrank.com/rest/contests/master/challenges/weather-observation-station-1/hackers/thanhhaisgas/download_solution"
      ]
    },
    {
      "cell_type": "code",
      "metadata": {
        "id": "kS9U7MfBWEjZ",
        "colab_type": "code",
        "colab": {}
      },
      "source": [
        "/*\n",
        "Enter your query here.\n",
        "Please append a semicolon \";\" at the end of the query and enter your query in a single line to avoid error.\n",
        "*/\n",
        "select CITY, STATE from STATION;"
      ],
      "execution_count": 0,
      "outputs": []
    },
    {
      "cell_type": "markdown",
      "metadata": {
        "colab_type": "text",
        "id": "rULL19eUaLsb"
      },
      "source": [
        "### Python"
      ]
    },
    {
      "cell_type": "markdown",
      "metadata": {
        "colab_type": "text",
        "id": "OCbZoWqkaP3A"
      },
      "source": [
        "#### Problem 1: The Minion Game\n",
        "\n",
        "**Task:**\n",
        "\n",
        "Kevin and Stuart want to play the 'The Minion Game'. Your task is to determine the winner of the game and their score.\n",
        "\n",
        "**Game Rules**\n",
        "\n",
        "* Both players are given the same string, **S**.\n",
        "* Both players have to make substrings using the letters of the string **S**.\n",
        "* Stuart has to make words starting with consonants.\n",
        "* Kevin has to make words starting with vowels. \n",
        "* The game ends when both players have made all possible substrings. \n",
        "\n",
        "**Scoring**\n",
        "\n",
        "* A player gets +1 point for each occurrence of the substring in the string **S**.\n",
        "\n",
        "**For Example:**\n",
        "\n",
        "* String  **S** = BANANA\n",
        "* Kevin's vowel beginning word = ANA\n",
        "* Here, ANA occurs twice in BANANA. Hence, Kevin will get 2 Points.\n",
        "\n",
        "**Input Format**\n",
        "\n",
        "* A single line of input containing the string **S**. \n",
        "\n",
        "**Output Format**\n",
        "\n",
        "* Print one line: the name of the winner and their score separated by a space.\n",
        "* If the game is a draw, print Draw.\n",
        "\n",
        "**Solution:** foreach input string and check the letter with VOWEL to make point for Kevin or Stuart. Score is the lenght of substing start with this letter.\n",
        "\n",
        "**Submission url:** https://www.hackerrank.com/rest/contests/master/challenges/the-minion-game/hackers/thanhhaisgas/download_solution\n",
        "\n"
      ]
    },
    {
      "cell_type": "code",
      "metadata": {
        "id": "6xHTCK17cS6X",
        "colab_type": "code",
        "colab": {
          "base_uri": "https://localhost:8080/",
          "height": 51
        },
        "outputId": "976639ec-9d64-4be5-bb9f-f37ae1bf1d81"
      },
      "source": [
        "def minion_game(string):\n",
        "    vowel = 'AOEUI'\n",
        "    stuart = 0\n",
        "    kevin = 0\n",
        "    for idx, char in enumerate(string):\n",
        "        core = len(string) - idx\n",
        "        if char in vowel:\n",
        "            kevin += core\n",
        "        else:\n",
        "            stuart += core\n",
        "    if kevin > stuart:\n",
        "        print('Kevin ' + str(kevin))\n",
        "    else:\n",
        "        if kevin < stuart:\n",
        "            print('Stuart ' + str(stuart))\n",
        "        else:\n",
        "            print('Draw')\n",
        "\n",
        "if __name__ == '__main__':\n",
        "    s = input()\n",
        "    minion_game(s)"
      ],
      "execution_count": 1,
      "outputs": [
        {
          "output_type": "stream",
          "text": [
            "AAAA\n",
            "Kevin 10\n"
          ],
          "name": "stdout"
        }
      ]
    },
    {
      "cell_type": "markdown",
      "metadata": {
        "colab_type": "text",
        "id": "SGr3JQ5Sgtro"
      },
      "source": [
        "#### Problem 2: Write a function\n",
        "\n",
        "**Task:**\n",
        "\n",
        "You are given the year, and you have to write a function to check if the year is leap or not.\n",
        "\n",
        "**Rules**\n",
        "\n",
        "We add a Leap Day on February 29, almost every four years. The leap day is an extra, or intercalary day and we add it to the shortest month of the year, February. \n",
        "In the Gregorian calendar three criteria must be taken into account to identify leap years:\n",
        "* The year can be evenly divided by 4, is a leap year, unless:\n",
        " * The year can be evenly divided by 100, it is NOT a leap year, unless:\n",
        "   * The year is also evenly divisible by 400. Then it is a leap year.\n",
        "\n",
        "This means that in the Gregorian calendar, the years 2000 and 2400 are leap years, while 1800, 1900, 2100, 2200, 2300 and 2500 are NOT leap years.\n",
        "\n",
        "**Input Format**\n",
        "\n",
        "* Read y, the year that needs to be checked.\n",
        "\n",
        "**Output Format**\n",
        "\n",
        "* Output is taken care of by the template. Your function must return a boolean value (True/False).\n",
        "\n",
        "**Submission url:** https://www.hackerrank.com/rest/contests/master/challenges/write-a-function/hackers/thanhhaisgas/download_solution\n",
        "\n"
      ]
    },
    {
      "cell_type": "code",
      "metadata": {
        "id": "cVXDVBpwgfvO",
        "colab_type": "code",
        "colab": {}
      },
      "source": [
        "def is_leap(year):\n",
        "    leap = False\n",
        "    if (year % 4) == 0:\n",
        "        if (year % 100) == 0:\n",
        "            if (year % 400) == 0:\n",
        "                leap = True\n",
        "        else:\n",
        "            leap = True\n",
        "\n",
        "    return leap\n",
        "year = int(input())\n",
        "print(is_leap(year))"
      ],
      "execution_count": 0,
      "outputs": []
    },
    {
      "cell_type": "markdown",
      "metadata": {
        "colab_type": "text",
        "id": "3sSth9_ecvz0"
      },
      "source": [
        "#### Problem 3: Merge the Tools!\n",
        "\n",
        "![alt text](https://i.imgur.com/nX3mXql.png)\n",
        "\n",
        "**Solution:** Using **OrderedDict** from  **collections** libray in python. Try to make easy life =]].\n",
        "\n",
        "**Submission url:** https://www.hackerrank.com/rest/contests/master/challenges/merge-the-tools/hackers/thanhhaisgas/download_solution\n",
        "\n"
      ]
    },
    {
      "cell_type": "code",
      "metadata": {
        "id": "lVEkIFzwny7W",
        "colab_type": "code",
        "colab": {}
      },
      "source": [
        "from collections import OrderedDict\n",
        "def merge_the_tools(string, k):\n",
        "    listString = [string[i:i + k] for i in range(0, len(string), k)]\n",
        "    for item in listString:\n",
        "        print(\"\".join(OrderedDict.fromkeys(item)))\n",
        "        \n",
        "\n",
        "if __name__ == '__main__':\n",
        "    string, k = input(), int(input())\n",
        "    merge_the_tools(string, k)"
      ],
      "execution_count": 0,
      "outputs": []
    },
    {
      "cell_type": "markdown",
      "metadata": {
        "colab_type": "text",
        "id": "pTt03KtGtvWD"
      },
      "source": [
        "#### Problem 4: Time Delta\n",
        "\n",
        "**Task:**\n",
        "\n",
        "* When users post an update on social media,such as a URL, image, status update etc., other users in their network are able to view this new post on their news feed. Users can also see exactly when the post was published, i.e, how many hours, minutes or seconds ago.\n",
        "\n",
        "* Since sometimes posts are published and viewed in different time zones, this can be confusing. You are given two timestamps of one such post that a user can see on his newsfeed in the following format:\n",
        "\n",
        " * **Day dd Mon yyyy hh:mm:ss +xxxx**\n",
        "\n",
        " * Here **+xxxx** represents the time zone. \n",
        " \n",
        "* Your task is to print the absolute difference (in seconds) between them\n",
        "\n",
        "**Input Format**\n",
        "\n",
        "* The first line contains ***T***, the number of testcases. \n",
        "* Each testcase contains 2 lines, representing time ***t1***  and time ***t2***.\n",
        "\n",
        "**Output Format**\n",
        "\n",
        "* Print the absolute difference ***(t1 - t2)***  in seconds.\n",
        "\n",
        "**Solution:** Using datetime library.\n",
        "\n",
        "**Submission url:** https://www.hackerrank.com/rest/contests/master/challenges/python-time-delta/hackers/thanhhaisgas/download_solution\n",
        "\n"
      ]
    },
    {
      "cell_type": "code",
      "metadata": {
        "id": "XG1hL8cIuyGU",
        "colab_type": "code",
        "colab": {}
      },
      "source": [
        "#!/bin/python3\n",
        "\n",
        "import math\n",
        "import os\n",
        "import random\n",
        "import re\n",
        "import sys\n",
        "import datetime\n",
        "\n",
        "# Complete the time_delta function below.\n",
        "def time_delta(t1, t2):\n",
        "    timeFormat = '%a %d %b %Y %H:%M:%S %z'\n",
        "    d1 = datetime.datetime.strptime(t1, timeFormat)\n",
        "    d2 = datetime.datetime.strptime(t2, timeFormat)\n",
        "    return str(abs(int((d1 - d2).total_seconds())))\n",
        "\n",
        "if __name__ == '__main__':\n",
        "    fptr = open(os.environ['OUTPUT_PATH'], 'w')\n",
        "\n",
        "    t = int(input())\n",
        "\n",
        "    for t_itr in range(t):\n",
        "        t1 = input()\n",
        "\n",
        "        t2 = input()\n",
        "\n",
        "        delta = time_delta(t1, t2)\n",
        "\n",
        "        fptr.write(delta + '\\n')\n",
        "\n",
        "    fptr.close()"
      ],
      "execution_count": 0,
      "outputs": []
    },
    {
      "cell_type": "markdown",
      "metadata": {
        "colab_type": "text",
        "id": "zT9Y4Ombv9sQ"
      },
      "source": [
        "#### Problem 5: Find Angle MBC\n",
        "\n",
        "![alt text](https://i.imgur.com/nleOspy.png)\n",
        "\n",
        "**Solution:** Using **math** libray in python. Try to make easy life =]].\n",
        "\n",
        "**Submission url:** https://www.hackerrank.com/rest/contests/master/challenges/find-angle/hackers/thanhhaisgas/download_solution\n",
        "\n"
      ]
    },
    {
      "cell_type": "code",
      "metadata": {
        "id": "kR3MYb5SwN5O",
        "colab_type": "code",
        "colab": {}
      },
      "source": [
        "import math\n",
        "AB = float(input())\n",
        "BC = float(input())\n",
        "print(str(int(round(math.degrees(math.atan2(AB, BC)))))+'°')"
      ],
      "execution_count": 0,
      "outputs": []
    }
  ]
}