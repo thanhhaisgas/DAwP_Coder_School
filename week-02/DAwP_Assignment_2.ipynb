{
  "nbformat": 4,
  "nbformat_minor": 0,
  "metadata": {
    "colab": {
      "name": "DAwP_Assignment_2.ipynb",
      "version": "0.3.2",
      "provenance": [],
      "collapsed_sections": []
    },
    "language_info": {
      "codemirror_mode": {
        "name": "ipython",
        "version": 3
      },
      "file_extension": ".py",
      "mimetype": "text/x-python",
      "name": "python",
      "nbconvert_exporter": "python",
      "pygments_lexer": "ipython3",
      "version": "3.6.5"
    },
    "kernelspec": {
      "display_name": "Python 3",
      "language": "python",
      "name": "python3"
    }
  },
  "cells": [
    {
      "cell_type": "markdown",
      "metadata": {
        "id": "kL9VPYin9nOD",
        "colab_type": "text"
      },
      "source": [
        "![](https://i.imgur.com/0AUxkXt.png)\n",
        "\n",
        "# SF Salaries Exercise \n",
        "\n",
        "Explore San Francisco city employee salary data.\n",
        "\n",
        "## Overview\n",
        "\n",
        "One way to understand how a city government works is by looking at who it employs and how its employees are compensated. This data contains the names, job title, and compensation for San Francisco city employees on an annual basis from 2011 to 2014.\n",
        "\n",
        "\n",
        "\n",
        "Just follow along and complete the tasks outlined in bold below. The tasks will get harder and harder as you go along.\n",
        "\n",
        "## Resourses\n",
        "\n",
        "[Pandas API Reference](https://pandas.pydata.org/pandas-docs/stable/api.html)\n",
        "\n",
        "[NumPy Reference](https://docs.scipy.org/doc/numpy/reference/)\n",
        "\n",
        "[Visualization with Seaborn](https://jakevdp.github.io/PythonDataScienceHandbook/04.14-visualization-with-seaborn.html)\n"
      ]
    },
    {
      "cell_type": "markdown",
      "metadata": {
        "id": "ueY1PMBl9nOF",
        "colab_type": "text"
      },
      "source": [
        "**Import libraries**"
      ]
    },
    {
      "cell_type": "code",
      "metadata": {
        "id": "dnwk5LCx9nOG",
        "colab_type": "code",
        "colab": {}
      },
      "source": [
        "import pandas as pd\n",
        "import seaborn as sns\n",
        "import numpy as np"
      ],
      "execution_count": 0,
      "outputs": []
    },
    {
      "cell_type": "markdown",
      "metadata": {
        "id": "jiOt1hEM9nOJ",
        "colab_type": "text"
      },
      "source": [
        "**Read `Salaries.csv` as a dataframe called `sal`.**"
      ]
    },
    {
      "cell_type": "code",
      "metadata": {
        "id": "FtA68BoY9nOJ",
        "colab_type": "code",
        "colab": {}
      },
      "source": [
        "link = \"https://s3-ap-southeast-1.amazonaws.com/intro-to-ml-minhdh/Salaries.csv\"\n",
        "sal = pd.read_csv(link)"
      ],
      "execution_count": 0,
      "outputs": []
    },
    {
      "cell_type": "markdown",
      "metadata": {
        "id": "QW6hV4iv9nOM",
        "colab_type": "text"
      },
      "source": [
        "**Check the head of the DataFrame.**"
      ]
    },
    {
      "cell_type": "code",
      "metadata": {
        "id": "oa2JHHJ99nON",
        "colab_type": "code",
        "outputId": "103293cb-a5fe-4a1a-fe50-d5d6d1de6e4f",
        "colab": {
          "base_uri": "https://localhost:8080/",
          "height": 204
        }
      },
      "source": [
        "sal.head()"
      ],
      "execution_count": 0,
      "outputs": [
        {
          "output_type": "execute_result",
          "data": {
            "text/html": [
              "<div>\n",
              "<style scoped>\n",
              "    .dataframe tbody tr th:only-of-type {\n",
              "        vertical-align: middle;\n",
              "    }\n",
              "\n",
              "    .dataframe tbody tr th {\n",
              "        vertical-align: top;\n",
              "    }\n",
              "\n",
              "    .dataframe thead th {\n",
              "        text-align: right;\n",
              "    }\n",
              "</style>\n",
              "<table border=\"1\" class=\"dataframe\">\n",
              "  <thead>\n",
              "    <tr style=\"text-align: right;\">\n",
              "      <th></th>\n",
              "      <th>Id</th>\n",
              "      <th>EmployeeName</th>\n",
              "      <th>JobTitle</th>\n",
              "      <th>BasePay</th>\n",
              "      <th>OvertimePay</th>\n",
              "      <th>OtherPay</th>\n",
              "      <th>Benefits</th>\n",
              "      <th>TotalPay</th>\n",
              "      <th>TotalPayBenefits</th>\n",
              "      <th>Year</th>\n",
              "      <th>Notes</th>\n",
              "      <th>Agency</th>\n",
              "      <th>Status</th>\n",
              "    </tr>\n",
              "  </thead>\n",
              "  <tbody>\n",
              "    <tr>\n",
              "      <th>0</th>\n",
              "      <td>1</td>\n",
              "      <td>NATHANIEL FORD</td>\n",
              "      <td>GENERAL MANAGER-METROPOLITAN TRANSIT AUTHORITY</td>\n",
              "      <td>167411.18</td>\n",
              "      <td>0.00</td>\n",
              "      <td>400184.25</td>\n",
              "      <td>NaN</td>\n",
              "      <td>567595.43</td>\n",
              "      <td>567595.43</td>\n",
              "      <td>2011</td>\n",
              "      <td>NaN</td>\n",
              "      <td>San Francisco</td>\n",
              "      <td>NaN</td>\n",
              "    </tr>\n",
              "    <tr>\n",
              "      <th>1</th>\n",
              "      <td>2</td>\n",
              "      <td>GARY JIMENEZ</td>\n",
              "      <td>CAPTAIN III (POLICE DEPARTMENT)</td>\n",
              "      <td>155966.02</td>\n",
              "      <td>245131.88</td>\n",
              "      <td>137811.38</td>\n",
              "      <td>NaN</td>\n",
              "      <td>538909.28</td>\n",
              "      <td>538909.28</td>\n",
              "      <td>2011</td>\n",
              "      <td>NaN</td>\n",
              "      <td>San Francisco</td>\n",
              "      <td>NaN</td>\n",
              "    </tr>\n",
              "    <tr>\n",
              "      <th>2</th>\n",
              "      <td>3</td>\n",
              "      <td>ALBERT PARDINI</td>\n",
              "      <td>CAPTAIN III (POLICE DEPARTMENT)</td>\n",
              "      <td>212739.13</td>\n",
              "      <td>106088.18</td>\n",
              "      <td>16452.60</td>\n",
              "      <td>NaN</td>\n",
              "      <td>335279.91</td>\n",
              "      <td>335279.91</td>\n",
              "      <td>2011</td>\n",
              "      <td>NaN</td>\n",
              "      <td>San Francisco</td>\n",
              "      <td>NaN</td>\n",
              "    </tr>\n",
              "    <tr>\n",
              "      <th>3</th>\n",
              "      <td>4</td>\n",
              "      <td>CHRISTOPHER CHONG</td>\n",
              "      <td>WIRE ROPE CABLE MAINTENANCE MECHANIC</td>\n",
              "      <td>77916.00</td>\n",
              "      <td>56120.71</td>\n",
              "      <td>198306.90</td>\n",
              "      <td>NaN</td>\n",
              "      <td>332343.61</td>\n",
              "      <td>332343.61</td>\n",
              "      <td>2011</td>\n",
              "      <td>NaN</td>\n",
              "      <td>San Francisco</td>\n",
              "      <td>NaN</td>\n",
              "    </tr>\n",
              "    <tr>\n",
              "      <th>4</th>\n",
              "      <td>5</td>\n",
              "      <td>PATRICK GARDNER</td>\n",
              "      <td>DEPUTY CHIEF OF DEPARTMENT,(FIRE DEPARTMENT)</td>\n",
              "      <td>134401.60</td>\n",
              "      <td>9737.00</td>\n",
              "      <td>182234.59</td>\n",
              "      <td>NaN</td>\n",
              "      <td>326373.19</td>\n",
              "      <td>326373.19</td>\n",
              "      <td>2011</td>\n",
              "      <td>NaN</td>\n",
              "      <td>San Francisco</td>\n",
              "      <td>NaN</td>\n",
              "    </tr>\n",
              "  </tbody>\n",
              "</table>\n",
              "</div>"
            ],
            "text/plain": [
              "   Id       EmployeeName  ...         Agency  Status\n",
              "0   1     NATHANIEL FORD  ...  San Francisco     NaN\n",
              "1   2       GARY JIMENEZ  ...  San Francisco     NaN\n",
              "2   3     ALBERT PARDINI  ...  San Francisco     NaN\n",
              "3   4  CHRISTOPHER CHONG  ...  San Francisco     NaN\n",
              "4   5    PATRICK GARDNER  ...  San Francisco     NaN\n",
              "\n",
              "[5 rows x 13 columns]"
            ]
          },
          "metadata": {
            "tags": []
          },
          "execution_count": 5
        }
      ]
    },
    {
      "cell_type": "markdown",
      "metadata": {
        "id": "LgRIzJ_l9nOP",
        "colab_type": "text"
      },
      "source": [
        "**Use the .info() method to find out how many entries there are.**"
      ]
    },
    {
      "cell_type": "code",
      "metadata": {
        "id": "JuwgdTfz9nOP",
        "colab_type": "code",
        "outputId": "7b1c5721-fa77-491c-e55a-1f4d9bf54fd4",
        "colab": {
          "base_uri": "https://localhost:8080/",
          "height": 323
        }
      },
      "source": [
        "sal.info()"
      ],
      "execution_count": 0,
      "outputs": [
        {
          "output_type": "stream",
          "text": [
            "<class 'pandas.core.frame.DataFrame'>\n",
            "RangeIndex: 148654 entries, 0 to 148653\n",
            "Data columns (total 13 columns):\n",
            "Id                  148654 non-null int64\n",
            "EmployeeName        148654 non-null object\n",
            "JobTitle            148654 non-null object\n",
            "BasePay             148045 non-null float64\n",
            "OvertimePay         148650 non-null float64\n",
            "OtherPay            148650 non-null float64\n",
            "Benefits            112491 non-null float64\n",
            "TotalPay            148654 non-null float64\n",
            "TotalPayBenefits    148654 non-null float64\n",
            "Year                148654 non-null int64\n",
            "Notes               0 non-null float64\n",
            "Agency              148654 non-null object\n",
            "Status              0 non-null float64\n",
            "dtypes: float64(8), int64(2), object(3)\n",
            "memory usage: 14.7+ MB\n"
          ],
          "name": "stdout"
        }
      ]
    },
    {
      "cell_type": "markdown",
      "metadata": {
        "id": "RgO49aNW9nOR",
        "colab_type": "text"
      },
      "source": [
        "**What is the average BasePay ?**\n",
        "\n",
        "Keyword: [mean](https://pandas.pydata.org/pandas-docs/stable/generated/pandas.DataFrame.mean.html)"
      ]
    },
    {
      "cell_type": "code",
      "metadata": {
        "id": "twQu_3xj9nOS",
        "colab_type": "code",
        "outputId": "65cbbda4-b72d-4af8-fb46-d174602a74ec",
        "colab": {
          "base_uri": "https://localhost:8080/",
          "height": 34
        }
      },
      "source": [
        "sal['BasePay'].mean()"
      ],
      "execution_count": 0,
      "outputs": [
        {
          "output_type": "execute_result",
          "data": {
            "text/plain": [
              "66325.44884050643"
            ]
          },
          "metadata": {
            "tags": []
          },
          "execution_count": 8
        }
      ]
    },
    {
      "cell_type": "markdown",
      "metadata": {
        "id": "qQc-OERD9nOU",
        "colab_type": "text"
      },
      "source": [
        "**What is the lowest and highest amount of BasePay?**\n",
        "\n",
        "Keyword: \n",
        "[min](https://pandas.pydata.org/pandas-docs/stable/generated/pandas.DataFrame.min.html) , \n",
        "[max](https://pandas.pydata.org/pandas-docs/stable/generated/pandas.DataFrame.max.html)"
      ]
    },
    {
      "cell_type": "code",
      "metadata": {
        "id": "22XKRdg49nOV",
        "colab_type": "code",
        "colab": {}
      },
      "source": [
        "sal['BasePay'].min()"
      ],
      "execution_count": 0,
      "outputs": []
    },
    {
      "cell_type": "code",
      "metadata": {
        "id": "R-yPM0ZU9nOX",
        "colab_type": "code",
        "colab": {}
      },
      "source": [
        "sal['BasePay'].max()"
      ],
      "execution_count": 0,
      "outputs": []
    },
    {
      "cell_type": "markdown",
      "metadata": {
        "id": "-MdkKp6U9nOa",
        "colab_type": "text"
      },
      "source": [
        "**How about OvertimePay in the dataset? What is the average, lowest, highest amount?**"
      ]
    },
    {
      "cell_type": "code",
      "metadata": {
        "id": "Og2yxCil9nOb",
        "colab_type": "code",
        "outputId": "446bbe37-bde4-43a9-cfef-b60ea523de5e",
        "colab": {
          "base_uri": "https://localhost:8080/",
          "height": 68
        }
      },
      "source": [
        "\n",
        "print(sal['OvertimePay'].min())\n",
        "print(sal['OvertimePay'].max())\n",
        "print(sal['OvertimePay'].mean())"
      ],
      "execution_count": 0,
      "outputs": [
        {
          "output_type": "stream",
          "text": [
            "-0.01\n",
            "245131.88\n",
            "5066.059886444622\n"
          ],
          "name": "stdout"
        }
      ]
    },
    {
      "cell_type": "markdown",
      "metadata": {
        "id": "mF0zrXXh9nOf",
        "colab_type": "text"
      },
      "source": [
        "**What is the job title of  JOSEPH DRISCOLL ? Note: Use all caps, otherwise you may get an answer that doesn't match up (there is also a lowercase Joseph Driscoll).**"
      ]
    },
    {
      "cell_type": "code",
      "metadata": {
        "id": "wbqO05iu9nOh",
        "colab_type": "code",
        "outputId": "9231b0bb-76d5-4cb6-e7bf-2ef19de0a805",
        "colab": {
          "base_uri": "https://localhost:8080/",
          "height": 34
        }
      },
      "source": [
        "sal[sal['EmployeeName'] == 'JOSEPH DRISCOLL']['JobTitle'].values[0]"
      ],
      "execution_count": 29,
      "outputs": [
        {
          "output_type": "execute_result",
          "data": {
            "text/plain": [
              "'CAPTAIN, FIRE SUPPRESSION'"
            ]
          },
          "metadata": {
            "tags": []
          },
          "execution_count": 29
        }
      ]
    },
    {
      "cell_type": "code",
      "metadata": {
        "id": "MwzxTlI29nOl",
        "colab_type": "code",
        "colab": {
          "base_uri": "https://localhost:8080/",
          "height": 80
        },
        "outputId": "4f4fd4a0-0e8d-4a15-a477-88348900c1ee"
      },
      "source": [
        "# Now try to select Employees who have name \"GARY JIMENEZ\"\n",
        "# Your code here\n",
        "sal[sal['EmployeeName'] == 'GARY JIMENEZ']"
      ],
      "execution_count": 30,
      "outputs": [
        {
          "output_type": "execute_result",
          "data": {
            "text/html": [
              "<div>\n",
              "<style scoped>\n",
              "    .dataframe tbody tr th:only-of-type {\n",
              "        vertical-align: middle;\n",
              "    }\n",
              "\n",
              "    .dataframe tbody tr th {\n",
              "        vertical-align: top;\n",
              "    }\n",
              "\n",
              "    .dataframe thead th {\n",
              "        text-align: right;\n",
              "    }\n",
              "</style>\n",
              "<table border=\"1\" class=\"dataframe\">\n",
              "  <thead>\n",
              "    <tr style=\"text-align: right;\">\n",
              "      <th></th>\n",
              "      <th>Id</th>\n",
              "      <th>EmployeeName</th>\n",
              "      <th>JobTitle</th>\n",
              "      <th>BasePay</th>\n",
              "      <th>OvertimePay</th>\n",
              "      <th>OtherPay</th>\n",
              "      <th>Benefits</th>\n",
              "      <th>TotalPay</th>\n",
              "      <th>TotalPayBenefits</th>\n",
              "      <th>Year</th>\n",
              "      <th>Notes</th>\n",
              "      <th>Agency</th>\n",
              "      <th>Status</th>\n",
              "    </tr>\n",
              "  </thead>\n",
              "  <tbody>\n",
              "    <tr>\n",
              "      <th>1</th>\n",
              "      <td>2</td>\n",
              "      <td>GARY JIMENEZ</td>\n",
              "      <td>CAPTAIN III (POLICE DEPARTMENT)</td>\n",
              "      <td>155966.02</td>\n",
              "      <td>245131.88</td>\n",
              "      <td>137811.38</td>\n",
              "      <td>NaN</td>\n",
              "      <td>538909.28</td>\n",
              "      <td>538909.28</td>\n",
              "      <td>2011</td>\n",
              "      <td>NaN</td>\n",
              "      <td>San Francisco</td>\n",
              "      <td>NaN</td>\n",
              "    </tr>\n",
              "  </tbody>\n",
              "</table>\n",
              "</div>"
            ],
            "text/plain": [
              "   Id  EmployeeName  ...         Agency  Status\n",
              "1   2  GARY JIMENEZ  ...  San Francisco     NaN\n",
              "\n",
              "[1 rows x 13 columns]"
            ]
          },
          "metadata": {
            "tags": []
          },
          "execution_count": 30
        }
      ]
    },
    {
      "cell_type": "markdown",
      "metadata": {
        "id": "0nrHI4iu9nOn",
        "colab_type": "text"
      },
      "source": [
        "**How much does JOSEPH DRISCOLL make (including benefits)?**"
      ]
    },
    {
      "cell_type": "code",
      "metadata": {
        "id": "TUZlBSDE9nOo",
        "colab_type": "code",
        "colab": {
          "base_uri": "https://localhost:8080/",
          "height": 51
        },
        "outputId": "59816ac2-f349-454f-9e64-ff1c3a68cabe"
      },
      "source": [
        "sal[sal['EmployeeName'] == 'JOSEPH DRISCOLL']['TotalPayBenefits'].values[0]"
      ],
      "execution_count": 14,
      "outputs": [
        {
          "output_type": "execute_result",
          "data": {
            "text/plain": [
              "24    270324.91\n",
              "Name: TotalPayBenefits, dtype: float64"
            ]
          },
          "metadata": {
            "tags": []
          },
          "execution_count": 14
        }
      ]
    },
    {
      "cell_type": "markdown",
      "metadata": {
        "id": "1thjd2GC9nOq",
        "colab_type": "text"
      },
      "source": [
        "**What is the name of highest paid person (including benefits)?**"
      ]
    },
    {
      "cell_type": "code",
      "metadata": {
        "id": "msrq-7Ww9nOr",
        "colab_type": "code",
        "colab": {
          "base_uri": "https://localhost:8080/",
          "height": 34
        },
        "outputId": "7197a926-bc8a-41a0-d1a4-abca3bbe0548"
      },
      "source": [
        "sal[sal['TotalPayBenefits'] == sal['TotalPayBenefits'].max()]['EmployeeName'].values[0]"
      ],
      "execution_count": 27,
      "outputs": [
        {
          "output_type": "execute_result",
          "data": {
            "text/plain": [
              "'NATHANIEL FORD'"
            ]
          },
          "metadata": {
            "tags": []
          },
          "execution_count": 27
        }
      ]
    },
    {
      "cell_type": "markdown",
      "metadata": {
        "id": "uF2kX93x9nOu",
        "colab_type": "text"
      },
      "source": [
        "**What is the name of lowest paid person (including benefits)? Do you notice something strange about how much he or she is paid?**"
      ]
    },
    {
      "cell_type": "code",
      "metadata": {
        "id": "htAfatTl9nOv",
        "colab_type": "code",
        "colab": {
          "base_uri": "https://localhost:8080/",
          "height": 80
        },
        "outputId": "068af02b-95e8-415d-a390-67bff4dcd7e2"
      },
      "source": [
        "sal[sal['TotalPayBenefits'] == sal['TotalPayBenefits'].min()][['EmployeeName','TotalPayBenefits']]"
      ],
      "execution_count": 20,
      "outputs": [
        {
          "output_type": "execute_result",
          "data": {
            "text/html": [
              "<div>\n",
              "<style scoped>\n",
              "    .dataframe tbody tr th:only-of-type {\n",
              "        vertical-align: middle;\n",
              "    }\n",
              "\n",
              "    .dataframe tbody tr th {\n",
              "        vertical-align: top;\n",
              "    }\n",
              "\n",
              "    .dataframe thead th {\n",
              "        text-align: right;\n",
              "    }\n",
              "</style>\n",
              "<table border=\"1\" class=\"dataframe\">\n",
              "  <thead>\n",
              "    <tr style=\"text-align: right;\">\n",
              "      <th></th>\n",
              "      <th>EmployeeName</th>\n",
              "      <th>TotalPayBenefits</th>\n",
              "    </tr>\n",
              "  </thead>\n",
              "  <tbody>\n",
              "    <tr>\n",
              "      <th>148653</th>\n",
              "      <td>Joe Lopez</td>\n",
              "      <td>-618.13</td>\n",
              "    </tr>\n",
              "  </tbody>\n",
              "</table>\n",
              "</div>"
            ],
            "text/plain": [
              "       EmployeeName  TotalPayBenefits\n",
              "148653    Joe Lopez           -618.13"
            ]
          },
          "metadata": {
            "tags": []
          },
          "execution_count": 20
        }
      ]
    },
    {
      "cell_type": "markdown",
      "metadata": {
        "id": "WB0HTvjM9nOx",
        "colab_type": "text"
      },
      "source": [
        "**What was the average (mean) BasePay of all employees per year? (2011-2014) ?**\n",
        "Keyword: _groupby_"
      ]
    },
    {
      "cell_type": "code",
      "metadata": {
        "id": "6Y5mUYir9nOy",
        "colab_type": "code",
        "colab": {
          "base_uri": "https://localhost:8080/",
          "height": 119
        },
        "outputId": "450aef08-4bcc-4419-a028-33adeca3b845"
      },
      "source": [
        "sal.groupby('Year')['BasePay'].mean()"
      ],
      "execution_count": 3,
      "outputs": [
        {
          "output_type": "execute_result",
          "data": {
            "text/plain": [
              "Year\n",
              "2011    63595.956517\n",
              "2012    65436.406857\n",
              "2013    69630.030216\n",
              "2014    66564.421924\n",
              "Name: BasePay, dtype: float64"
            ]
          },
          "metadata": {
            "tags": []
          },
          "execution_count": 3
        }
      ]
    },
    {
      "cell_type": "markdown",
      "metadata": {
        "id": "k8Qzx9MD9nO0",
        "colab_type": "text"
      },
      "source": [
        "**How many unique job titles are there?**\n",
        "\n",
        "Keyword: _unique, nunique_"
      ]
    },
    {
      "cell_type": "code",
      "metadata": {
        "id": "mvzwZ5Mb9nO1",
        "colab_type": "code",
        "colab": {
          "base_uri": "https://localhost:8080/",
          "height": 34
        },
        "outputId": "d07b9833-7d25-4eb7-af46-2d52ec8eda33"
      },
      "source": [
        "len(sal['JobTitle'].unique())"
      ],
      "execution_count": 32,
      "outputs": [
        {
          "output_type": "execute_result",
          "data": {
            "text/plain": [
              "2159"
            ]
          },
          "metadata": {
            "tags": []
          },
          "execution_count": 32
        }
      ]
    },
    {
      "cell_type": "markdown",
      "metadata": {
        "id": "0dkyZe-39nO4",
        "colab_type": "text"
      },
      "source": [
        "**What are the top 5 most common jobs?**\n",
        "\n",
        "Keyword: *value_counts*"
      ]
    },
    {
      "cell_type": "code",
      "metadata": {
        "id": "PVSDr3Ww9nO7",
        "colab_type": "code",
        "colab": {
          "base_uri": "https://localhost:8080/",
          "height": 119
        },
        "outputId": "cecdf0c3-7fb9-443c-cc37-f052b61c8af2"
      },
      "source": [
        "sal['JobTitle'].value_counts()[:5]"
      ],
      "execution_count": 33,
      "outputs": [
        {
          "output_type": "execute_result",
          "data": {
            "text/plain": [
              "Transit Operator                7036\n",
              "Special Nurse                   4389\n",
              "Registered Nurse                3736\n",
              "Public Svc Aide-Public Works    2518\n",
              "Police Officer 3                2421\n",
              "Name: JobTitle, dtype: int64"
            ]
          },
          "metadata": {
            "tags": []
          },
          "execution_count": 33
        }
      ]
    },
    {
      "cell_type": "markdown",
      "metadata": {
        "id": "25fCX21U9nO-",
        "colab_type": "text"
      },
      "source": [
        "**How many Job Titles were represented by only one person in 2013? (e.g. Job Titles with only one occurence in 2013?)**"
      ]
    },
    {
      "cell_type": "code",
      "metadata": {
        "id": "e9vr6BKD9nPA",
        "colab_type": "code",
        "colab": {
          "base_uri": "https://localhost:8080/",
          "height": 34
        },
        "outputId": "f5018ab9-8db3-4a35-b13c-bffafe15f3e7"
      },
      "source": [
        "# sal[sal['Year'] == 2013].groupby('JobTitle')['JobTitle'].count()\n",
        "sal[sal.Year == 2013].groupby('JobTitle').filter(lambda g : len(g) == 1).groupby('JobTitle').size().count()"
      ],
      "execution_count": 33,
      "outputs": [
        {
          "output_type": "execute_result",
          "data": {
            "text/plain": [
              "202"
            ]
          },
          "metadata": {
            "tags": []
          },
          "execution_count": 33
        }
      ]
    },
    {
      "cell_type": "markdown",
      "metadata": {
        "id": "HoiNghja9nPD",
        "colab_type": "text"
      },
      "source": [
        "**How many people have the word Chief in their job title?**"
      ]
    },
    {
      "cell_type": "code",
      "metadata": {
        "id": "mBc0hzan9nPE",
        "colab_type": "code",
        "colab": {
          "base_uri": "https://localhost:8080/",
          "height": 34
        },
        "outputId": "e3afc168-fad0-4a95-e9f3-44392d7144ad"
      },
      "source": [
        "sal[sal.JobTitle.str.contains('Chief')]['JobTitle'].count()"
      ],
      "execution_count": 40,
      "outputs": [
        {
          "output_type": "execute_result",
          "data": {
            "text/plain": [
              "423"
            ]
          },
          "metadata": {
            "tags": []
          },
          "execution_count": 40
        }
      ]
    },
    {
      "cell_type": "code",
      "metadata": {
        "id": "u40e_Ua89nPF",
        "colab_type": "code",
        "colab": {}
      },
      "source": [
        ""
      ],
      "execution_count": 0,
      "outputs": []
    },
    {
      "cell_type": "code",
      "metadata": {
        "id": "SA7QNzVq9nPI",
        "colab_type": "code",
        "colab": {}
      },
      "source": [
        ""
      ],
      "execution_count": 0,
      "outputs": []
    },
    {
      "cell_type": "markdown",
      "metadata": {
        "id": "5G094gws9nPL",
        "colab_type": "text"
      },
      "source": [
        "## Data Visualization\n",
        "\n",
        "**Implement seaborn's countplot with x='Year'**"
      ]
    },
    {
      "cell_type": "code",
      "metadata": {
        "id": "56GKG4UD9nPM",
        "colab_type": "code",
        "colab": {
          "base_uri": "https://localhost:8080/",
          "height": 300
        },
        "outputId": "790855dc-c065-410b-873f-e0d1e5b32761"
      },
      "source": [
        "sns.countplot(data=sal,x='Year')"
      ],
      "execution_count": 4,
      "outputs": [
        {
          "output_type": "execute_result",
          "data": {
            "text/plain": [
              "<matplotlib.axes._subplots.AxesSubplot at 0x7f152bc23f98>"
            ]
          },
          "metadata": {
            "tags": []
          },
          "execution_count": 4
        },
        {
          "output_type": "display_data",
          "data": {
            "image/png": "[encoded data removed]",
            "text/plain": [
              "<Figure size 432x288 with 1 Axes>"
            ]
          },
          "metadata": {
            "tags": []
          }
        }
      ]
    },
    {
      "cell_type": "markdown",
      "metadata": {
        "id": "orQACfVP9nPP",
        "colab_type": "text"
      },
      "source": [
        "**Implement seaborn's distplot for BasePay of Year 2011**"
      ]
    },
    {
      "cell_type": "code",
      "metadata": {
        "id": "JYPrrLW19nPQ",
        "colab_type": "code",
        "colab": {
          "base_uri": "https://localhost:8080/",
          "height": 300
        },
        "outputId": "77d285ff-83da-45b4-d633-4ee83a918fc7"
      },
      "source": [
        "data=sal[~sal['BasePay'].isnull()]\n",
        "year2011=data[data.Year==2011]\n",
        "sns.distplot(year2011['BasePay'])"
      ],
      "execution_count": 39,
      "outputs": [
        {
          "output_type": "execute_result",
          "data": {
            "text/plain": [
              "<matplotlib.axes._subplots.AxesSubplot at 0x7f15283aa358>"
            ]
          },
          "metadata": {
            "tags": []
          },
          "execution_count": 39
        },
        {
          "output_type": "display_data",
          "data": {
            "image/png": "[encoded data removed]",
            "text/plain": [
              "<Figure size 432x288 with 1 Axes>"
            ]
          },
          "metadata": {
            "tags": []
          }
        }
      ]
    },
    {
      "cell_type": "markdown",
      "metadata": {
        "id": "Ea9OFiqK9nPS",
        "colab_type": "text"
      },
      "source": [
        "**How about other Year**"
      ]
    },
    {
      "cell_type": "code",
      "metadata": {
        "id": "orRMn0X89nPT",
        "colab_type": "code",
        "colab": {
          "base_uri": "https://localhost:8080/",
          "height": 300
        },
        "outputId": "bb619574-b5e5-4a63-8d55-2c04d816c931"
      },
      "source": [
        "otherYears=data[data.Year!=2011]\n",
        "sns.distplot(otherYears['BasePay'])"
      ],
      "execution_count": 41,
      "outputs": [
        {
          "output_type": "execute_result",
          "data": {
            "text/plain": [
              "<matplotlib.axes._subplots.AxesSubplot at 0x7f1528270f60>"
            ]
          },
          "metadata": {
            "tags": []
          },
          "execution_count": 41
        },
        {
          "output_type": "display_data",
          "data": {
            "image/png": "[encoded data removed]",
            "text/plain": [
              "<Figure size 432x288 with 1 Axes>"
            ]
          },
          "metadata": {
            "tags": []
          }
        }
      ]
    },
    {
      "cell_type": "markdown",
      "metadata": {
        "id": "00EkkG_s9nPV",
        "colab_type": "text"
      },
      "source": [
        "## Bonus\n",
        "\n",
        "**Visualize top 5 Jobs with BasePay, Benefits and OvertimePay**\n",
        "\n",
        "Keyword: *index, isin, groupby, mean, plot*"
      ]
    },
    {
      "cell_type": "code",
      "metadata": {
        "id": "LoZm87Bu9nPV",
        "colab_type": "code",
        "colab": {
          "base_uri": "https://localhost:8080/",
          "height": 235
        },
        "outputId": "d3205c3f-26aa-4c52-ca04-ba0f0b3ede15"
      },
      "source": [
        "# which attributes defined top 5?\n",
        "bonusData=sal[(~sal.BasePay.isnull())&(~sal.Benefits.isnull())&~sal.OvertimePay.isnull()]\n",
        "bonusData.set_index('JobTitle')\n",
        "top5 = bonusData.groupby('JobTitle')[['BasePay','Benefits','OvertimePay']].mean().sort_values(['BasePay','Benefits','OvertimePay'], ascending=[False, False, False])\n",
        "top5 = top5[top5.OvertimePay>0][:5]\n",
        "top5"
      ],
      "execution_count": 75,
      "outputs": [
        {
          "output_type": "execute_result",
          "data": {
            "text/html": [
              "<div>\n",
              "<style scoped>\n",
              "    .dataframe tbody tr th:only-of-type {\n",
              "        vertical-align: middle;\n",
              "    }\n",
              "\n",
              "    .dataframe tbody tr th {\n",
              "        vertical-align: top;\n",
              "    }\n",
              "\n",
              "    .dataframe thead th {\n",
              "        text-align: right;\n",
              "    }\n",
              "</style>\n",
              "<table border=\"1\" class=\"dataframe\">\n",
              "  <thead>\n",
              "    <tr style=\"text-align: right;\">\n",
              "      <th></th>\n",
              "      <th>BasePay</th>\n",
              "      <th>Benefits</th>\n",
              "      <th>OvertimePay</th>\n",
              "    </tr>\n",
              "    <tr>\n",
              "      <th>JobTitle</th>\n",
              "      <th></th>\n",
              "      <th></th>\n",
              "      <th></th>\n",
              "    </tr>\n",
              "  </thead>\n",
              "  <tbody>\n",
              "    <tr>\n",
              "      <th>Dep Chf of Dept (Fire Dept)</th>\n",
              "      <td>224161.957143</td>\n",
              "      <td>65346.107143</td>\n",
              "      <td>4659.222857</td>\n",
              "    </tr>\n",
              "    <tr>\n",
              "      <th>Asst Chf of Dept (Fire Dept)</th>\n",
              "      <td>208249.661111</td>\n",
              "      <td>60834.066667</td>\n",
              "      <td>46024.222222</td>\n",
              "    </tr>\n",
              "    <tr>\n",
              "      <th>Commander 3</th>\n",
              "      <td>200214.721667</td>\n",
              "      <td>51800.411667</td>\n",
              "      <td>146.895000</td>\n",
              "    </tr>\n",
              "    <tr>\n",
              "      <th>Asst Med Examiner</th>\n",
              "      <td>200089.745833</td>\n",
              "      <td>53776.090000</td>\n",
              "      <td>5079.458333</td>\n",
              "    </tr>\n",
              "    <tr>\n",
              "      <th>Assistant Deputy Chief 2</th>\n",
              "      <td>181557.245455</td>\n",
              "      <td>50635.250000</td>\n",
              "      <td>3534.010909</td>\n",
              "    </tr>\n",
              "  </tbody>\n",
              "</table>\n",
              "</div>"
            ],
            "text/plain": [
              "                                    BasePay      Benefits   OvertimePay\n",
              "JobTitle                                                               \n",
              "Dep Chf of Dept (Fire Dept)   224161.957143  65346.107143   4659.222857\n",
              "Asst Chf of Dept (Fire Dept)  208249.661111  60834.066667  46024.222222\n",
              "Commander 3                   200214.721667  51800.411667    146.895000\n",
              "Asst Med Examiner             200089.745833  53776.090000   5079.458333\n",
              "Assistant Deputy Chief 2      181557.245455  50635.250000   3534.010909"
            ]
          },
          "metadata": {
            "tags": []
          },
          "execution_count": 75
        }
      ]
    },
    {
      "cell_type": "code",
      "metadata": {
        "id": "C-nKGOA-9nPY",
        "colab_type": "code",
        "outputId": "d08bce5f-0f93-4d6a-b3ad-6079d4bda730",
        "colab": {
          "base_uri": "https://localhost:8080/",
          "height": 428
        }
      },
      "source": [
        "top5.reset_index().plot(x='JobTitle', y=['BasePay','Benefits','OvertimePay'], kind=\"bar\")"
      ],
      "execution_count": 76,
      "outputs": [
        {
          "output_type": "execute_result",
          "data": {
            "text/plain": [
              "<matplotlib.axes._subplots.AxesSubplot at 0x7f1527ad7208>"
            ]
          },
          "metadata": {
            "tags": []
          },
          "execution_count": 76
        },
        {
          "output_type": "display_data",
          "data": {
            "image/png": "[encoded data removed]",
            "text/plain": [
              "<Figure size 432x288 with 1 Axes>"
            ]
          },
          "metadata": {
            "tags": []
          }
        }
      ]
    },
    {
      "cell_type": "markdown",
      "metadata": {
        "id": "V2Lz3SGu9nPc",
        "colab_type": "text"
      },
      "source": [
        "**Fun Fact: Is there a correlation between length of the Job Title string and Salary?**\n",
        "\n",
        "*Hint: corr()*"
      ]
    },
    {
      "cell_type": "code",
      "metadata": {
        "id": "CgcrtPdJ9nPd",
        "colab_type": "code",
        "colab": {
          "base_uri": "https://localhost:8080/",
          "height": 34
        },
        "outputId": "b0435334-0fff-47f6-f8f0-45b9fafc65f2"
      },
      "source": [
        "sal['JobTitle'].str.len().corr(sal['TotalPayBenefits'])"
      ],
      "execution_count": 85,
      "outputs": [
        {
          "output_type": "execute_result",
          "data": {
            "text/plain": [
              "-0.036878445932606675"
            ]
          },
          "metadata": {
            "tags": []
          },
          "execution_count": 85
        }
      ]
    },
    {
      "cell_type": "code",
      "metadata": {
        "id": "G8SQ0NhI9nPe",
        "colab_type": "code",
        "colab": {
          "base_uri": "https://localhost:8080/",
          "height": 359
        },
        "outputId": "8cb29532-043b-496d-ff3d-c09e31bfea21"
      },
      "source": [
        ""
      ],
      "execution_count": 84,
      "outputs": [
        {
          "output_type": "execute_result",
          "data": {
            "text/html": [
              "<div>\n",
              "<style scoped>\n",
              "    .dataframe tbody tr th:only-of-type {\n",
              "        vertical-align: middle;\n",
              "    }\n",
              "\n",
              "    .dataframe tbody tr th {\n",
              "        vertical-align: top;\n",
              "    }\n",
              "\n",
              "    .dataframe thead th {\n",
              "        text-align: right;\n",
              "    }\n",
              "</style>\n",
              "<table border=\"1\" class=\"dataframe\">\n",
              "  <thead>\n",
              "    <tr style=\"text-align: right;\">\n",
              "      <th></th>\n",
              "      <th>Id</th>\n",
              "      <th>BasePay</th>\n",
              "      <th>OvertimePay</th>\n",
              "      <th>OtherPay</th>\n",
              "      <th>Benefits</th>\n",
              "      <th>TotalPay</th>\n",
              "      <th>TotalPayBenefits</th>\n",
              "      <th>Year</th>\n",
              "      <th>Notes</th>\n",
              "      <th>Status</th>\n",
              "    </tr>\n",
              "  </thead>\n",
              "  <tbody>\n",
              "    <tr>\n",
              "      <th>Id</th>\n",
              "      <td>1.000000</td>\n",
              "      <td>-0.204878</td>\n",
              "      <td>-0.081505</td>\n",
              "      <td>-0.100403</td>\n",
              "      <td>-0.348957</td>\n",
              "      <td>-0.211478</td>\n",
              "      <td>-0.092190</td>\n",
              "      <td>0.968171</td>\n",
              "      <td>NaN</td>\n",
              "      <td>NaN</td>\n",
              "    </tr>\n",
              "    <tr>\n",
              "      <th>BasePay</th>\n",
              "      <td>-0.204878</td>\n",
              "      <td>1.000000</td>\n",
              "      <td>0.266740</td>\n",
              "      <td>0.285655</td>\n",
              "      <td>0.918028</td>\n",
              "      <td>0.954494</td>\n",
              "      <td>0.946595</td>\n",
              "      <td>0.033751</td>\n",
              "      <td>NaN</td>\n",
              "      <td>NaN</td>\n",
              "    </tr>\n",
              "    <tr>\n",
              "      <th>OvertimePay</th>\n",
              "      <td>-0.081505</td>\n",
              "      <td>0.266740</td>\n",
              "      <td>1.000000</td>\n",
              "      <td>0.316592</td>\n",
              "      <td>0.301207</td>\n",
              "      <td>0.504859</td>\n",
              "      <td>0.467981</td>\n",
              "      <td>0.027887</td>\n",
              "      <td>NaN</td>\n",
              "      <td>NaN</td>\n",
              "    </tr>\n",
              "    <tr>\n",
              "      <th>OtherPay</th>\n",
              "      <td>-0.100403</td>\n",
              "      <td>0.285655</td>\n",
              "      <td>0.316592</td>\n",
              "      <td>1.000000</td>\n",
              "      <td>0.233178</td>\n",
              "      <td>0.470496</td>\n",
              "      <td>0.422341</td>\n",
              "      <td>-0.002499</td>\n",
              "      <td>NaN</td>\n",
              "      <td>NaN</td>\n",
              "    </tr>\n",
              "    <tr>\n",
              "      <th>Benefits</th>\n",
              "      <td>-0.348957</td>\n",
              "      <td>0.918028</td>\n",
              "      <td>0.301207</td>\n",
              "      <td>0.233178</td>\n",
              "      <td>1.000000</td>\n",
              "      <td>0.884097</td>\n",
              "      <td>0.930140</td>\n",
              "      <td>-0.043136</td>\n",
              "      <td>NaN</td>\n",
              "      <td>NaN</td>\n",
              "    </tr>\n",
              "    <tr>\n",
              "      <th>TotalPay</th>\n",
              "      <td>-0.211478</td>\n",
              "      <td>0.954494</td>\n",
              "      <td>0.504859</td>\n",
              "      <td>0.470496</td>\n",
              "      <td>0.884097</td>\n",
              "      <td>1.000000</td>\n",
              "      <td>0.977313</td>\n",
              "      <td>0.032090</td>\n",
              "      <td>NaN</td>\n",
              "      <td>NaN</td>\n",
              "    </tr>\n",
              "    <tr>\n",
              "      <th>TotalPayBenefits</th>\n",
              "      <td>-0.092190</td>\n",
              "      <td>0.946595</td>\n",
              "      <td>0.467981</td>\n",
              "      <td>0.422341</td>\n",
              "      <td>0.930140</td>\n",
              "      <td>0.977313</td>\n",
              "      <td>1.000000</td>\n",
              "      <td>0.151947</td>\n",
              "      <td>NaN</td>\n",
              "      <td>NaN</td>\n",
              "    </tr>\n",
              "    <tr>\n",
              "      <th>Year</th>\n",
              "      <td>0.968171</td>\n",
              "      <td>0.033751</td>\n",
              "      <td>0.027887</td>\n",
              "      <td>-0.002499</td>\n",
              "      <td>-0.043136</td>\n",
              "      <td>0.032090</td>\n",
              "      <td>0.151947</td>\n",
              "      <td>1.000000</td>\n",
              "      <td>NaN</td>\n",
              "      <td>NaN</td>\n",
              "    </tr>\n",
              "    <tr>\n",
              "      <th>Notes</th>\n",
              "      <td>NaN</td>\n",
              "      <td>NaN</td>\n",
              "      <td>NaN</td>\n",
              "      <td>NaN</td>\n",
              "      <td>NaN</td>\n",
              "      <td>NaN</td>\n",
              "      <td>NaN</td>\n",
              "      <td>NaN</td>\n",
              "      <td>NaN</td>\n",
              "      <td>NaN</td>\n",
              "    </tr>\n",
              "    <tr>\n",
              "      <th>Status</th>\n",
              "      <td>NaN</td>\n",
              "      <td>NaN</td>\n",
              "      <td>NaN</td>\n",
              "      <td>NaN</td>\n",
              "      <td>NaN</td>\n",
              "      <td>NaN</td>\n",
              "      <td>NaN</td>\n",
              "      <td>NaN</td>\n",
              "      <td>NaN</td>\n",
              "      <td>NaN</td>\n",
              "    </tr>\n",
              "  </tbody>\n",
              "</table>\n",
              "</div>"
            ],
            "text/plain": [
              "                        Id   BasePay  OvertimePay  ...      Year  Notes  Status\n",
              "Id                1.000000 -0.204878    -0.081505  ...  0.968171    NaN     NaN\n",
              "BasePay          -0.204878  1.000000     0.266740  ...  0.033751    NaN     NaN\n",
              "OvertimePay      -0.081505  0.266740     1.000000  ...  0.027887    NaN     NaN\n",
              "OtherPay         -0.100403  0.285655     0.316592  ... -0.002499    NaN     NaN\n",
              "Benefits         -0.348957  0.918028     0.301207  ... -0.043136    NaN     NaN\n",
              "TotalPay         -0.211478  0.954494     0.504859  ...  0.032090    NaN     NaN\n",
              "TotalPayBenefits -0.092190  0.946595     0.467981  ...  0.151947    NaN     NaN\n",
              "Year              0.968171  0.033751     0.027887  ...  1.000000    NaN     NaN\n",
              "Notes                  NaN       NaN          NaN  ...       NaN    NaN     NaN\n",
              "Status                 NaN       NaN          NaN  ...       NaN    NaN     NaN\n",
              "\n",
              "[10 rows x 10 columns]"
            ]
          },
          "metadata": {
            "tags": []
          },
          "execution_count": 84
        }
      ]
    },
    {
      "cell_type": "markdown",
      "metadata": {
        "id": "gY4kMupD9nPg",
        "colab_type": "text"
      },
      "source": [
        "# Great Job!"
      ]
    }
  ]
}